{
 "cells": [
  {
   "cell_type": "markdown",
   "metadata": {},
   "source": [
    "# Homework 5, Part 2: Answer questions with pandas\n",
    "\n",
    "**Use the Excel file to answer the following questions.** This is a little more typical of what your data exploration will look like with pandas.\n",
    "\n",
    "> Again, **don't use ChatGPT for this assignment.** You should be able to memorize the most basic parts of pandas."
   ]
  },
  {
   "cell_type": "markdown",
   "metadata": {},
   "source": [
    "## 0) Setup\n",
    "\n",
    "Import pandas **with the correct name** ."
   ]
  },
  {
   "cell_type": "code",
   "execution_count": 47,
   "metadata": {},
   "outputs": [],
   "source": [
    "import pandas as pd\n",
    "import xlrd"
   ]
  },
  {
   "cell_type": "markdown",
   "metadata": {},
   "source": [
    "## 1) Reading in an Excel file\n",
    "\n",
    "Use pandas to read in the `richpeople.xlsx` Excel file, saving it as a variable with the name we'll always use for a dataframe.\n",
    "\n",
    "> **TIP:** You will use `read_excel` instead of `read_csv`. Trying `read_excel` the first time will probably not work, you'll get an error message. Be sure to read the error carefully: *you probably need to install a new library before it will work, and the error tells you what the library is named*. You *might* need to do `Kernel > Restart Kernel...` and run the notebook again from the top in order to get it to work."
   ]
  },
  {
   "cell_type": "code",
   "execution_count": 48,
   "metadata": {},
   "outputs": [
    {
     "name": "stdout",
     "output_type": "stream",
     "text": [
      "Requirement already satisfied: openpyxl in /opt/anaconda3/envs/tensorflow_env/lib/python3.6/site-packages (3.1.3)\n",
      "Requirement already satisfied: et-xmlfile in /opt/anaconda3/envs/tensorflow_env/lib/python3.6/site-packages (from openpyxl) (1.1.0)\n",
      "Note: you may need to restart the kernel to use updated packages.\n"
     ]
    }
   ],
   "source": [
    "pip install openpyxl"
   ]
  },
  {
   "cell_type": "code",
   "execution_count": 49,
   "metadata": {},
   "outputs": [
    {
     "name": "stdout",
     "output_type": "stream",
     "text": [
      "Note: you may need to restart the kernel to use updated packages.\n"
     ]
    }
   ],
   "source": [
    "pip install --quiet matplotlib"
   ]
  },
  {
   "cell_type": "code",
   "execution_count": 50,
   "metadata": {},
   "outputs": [],
   "source": [
    "df = pd.read_excel('/Users/isabellerch/Desktop/LEDE/Unterricht/Day6/06-homework 2/richpeople.xlsx', engine='openpyxl')"
   ]
  },
  {
   "cell_type": "markdown",
   "metadata": {},
   "source": [
    "## 2) Checking your data\n",
    "\n",
    "Display the number of rows and columns in your data. Also display the names and data types of each column."
   ]
  },
  {
   "cell_type": "code",
   "execution_count": 51,
   "metadata": {},
   "outputs": [
    {
     "name": "stdout",
     "output_type": "stream",
     "text": [
      "Number of rows and columns: (1653, 30)\n"
     ]
    }
   ],
   "source": [
    "# display the number of rows and columns\n",
    "print(\"Number of rows and columns:\", df.shape)"
   ]
  },
  {
   "cell_type": "code",
   "execution_count": 52,
   "metadata": {},
   "outputs": [
    {
     "name": "stdout",
     "output_type": "stream",
     "text": [
      "\n",
      "Column names and data types:\n",
      "<class 'pandas.core.frame.DataFrame'>\n",
      "RangeIndex: 1653 entries, 0 to 1652\n",
      "Data columns (total 30 columns):\n",
      " #   Column                   Non-Null Count  Dtype  \n",
      "---  ------                   --------------  -----  \n",
      " 0   year                     1653 non-null   int64  \n",
      " 1   name                     1653 non-null   object \n",
      " 2   rank                     1653 non-null   int64  \n",
      " 3   citizenship              1653 non-null   object \n",
      " 4   countrycode              1653 non-null   object \n",
      " 5   networthusbillion        1653 non-null   float64\n",
      " 6   selfmade                 1651 non-null   object \n",
      " 7   typeofwealth             1651 non-null   object \n",
      " 8   gender                   1653 non-null   object \n",
      " 9   age                      1590 non-null   float64\n",
      " 10  industry                 1652 non-null   object \n",
      " 11  IndustryAggregates       1652 non-null   object \n",
      " 12  region                   1653 non-null   object \n",
      " 13  north                    1653 non-null   int64  \n",
      " 14  politicalconnection      56 non-null     float64\n",
      " 15  founder                  1653 non-null   int64  \n",
      " 16  generationofinheritance  1653 non-null   object \n",
      " 17  sector                   1653 non-null   object \n",
      " 18  company                  1645 non-null   object \n",
      " 19  companytype              1646 non-null   object \n",
      " 20  relationshiptocompany    1651 non-null   object \n",
      " 21  foundingdate             1641 non-null   float64\n",
      " 22  gdpcurrentus             0 non-null      float64\n",
      " 23  sourceofwealth           1635 non-null   object \n",
      " 24  notes                    683 non-null    object \n",
      " 25  notes2                   111 non-null    object \n",
      " 26  source                   1653 non-null   object \n",
      " 27  source_2                 1416 non-null   object \n",
      " 28  source_3                 523 non-null    object \n",
      " 29  source_4                 17 non-null     object \n",
      "dtypes: float64(5), int64(4), object(21)\n",
      "memory usage: 387.5+ KB\n",
      "None\n"
     ]
    }
   ],
   "source": [
    "# display the names and data types of each column\n",
    "print(\"\\nColumn names and data types:\")\n",
    "print(df.info())"
   ]
  },
  {
   "cell_type": "code",
   "execution_count": 53,
   "metadata": {},
   "outputs": [
    {
     "data": {
      "text/html": "<div>\n<style scoped>\n    .dataframe tbody tr th:only-of-type {\n        vertical-align: middle;\n    }\n\n    .dataframe tbody tr th {\n        vertical-align: top;\n    }\n\n    .dataframe thead th {\n        text-align: right;\n    }\n</style>\n<table border=\"1\" class=\"dataframe\">\n  <thead>\n    <tr style=\"text-align: right;\">\n      <th></th>\n      <th>year</th>\n      <th>name</th>\n      <th>rank</th>\n      <th>citizenship</th>\n      <th>countrycode</th>\n      <th>networthusbillion</th>\n      <th>selfmade</th>\n      <th>typeofwealth</th>\n      <th>gender</th>\n      <th>age</th>\n      <th>...</th>\n      <th>relationshiptocompany</th>\n      <th>foundingdate</th>\n      <th>gdpcurrentus</th>\n      <th>sourceofwealth</th>\n      <th>notes</th>\n      <th>notes2</th>\n      <th>source</th>\n      <th>source_2</th>\n      <th>source_3</th>\n      <th>source_4</th>\n    </tr>\n  </thead>\n  <tbody>\n    <tr>\n      <th>0</th>\n      <td>2014</td>\n      <td>A. Jerrold Perenchio</td>\n      <td>663</td>\n      <td>United States</td>\n      <td>USA</td>\n      <td>2.6</td>\n      <td>self-made</td>\n      <td>executive</td>\n      <td>male</td>\n      <td>83.0</td>\n      <td>...</td>\n      <td>former chairman and CEO</td>\n      <td>1955.0</td>\n      <td>NaN</td>\n      <td>television, Univision</td>\n      <td>represented Marlon Brando and Elizabeth Taylor</td>\n      <td>NaN</td>\n      <td>http://en.wikipedia.org/wiki/Jerry_Perenchio</td>\n      <td>http://www.forbes.com/profile/a-jerrold-perenc...</td>\n      <td>COLUMN ONE; A Hollywood Player Who Owns the Ga...</td>\n      <td>NaN</td>\n    </tr>\n    <tr>\n      <th>1</th>\n      <td>2014</td>\n      <td>Abdulla Al Futtaim</td>\n      <td>687</td>\n      <td>United Arab Emirates</td>\n      <td>ARE</td>\n      <td>2.5</td>\n      <td>inherited</td>\n      <td>inherited</td>\n      <td>male</td>\n      <td>NaN</td>\n      <td>...</td>\n      <td>relation</td>\n      <td>1930.0</td>\n      <td>NaN</td>\n      <td>auto dealers, investments</td>\n      <td>company split between him and cousin in 2000</td>\n      <td>NaN</td>\n      <td>http://en.wikipedia.org/wiki/Al-Futtaim_Group</td>\n      <td>http://www.al-futtaim.ae/content/groupProfile.asp</td>\n      <td>NaN</td>\n      <td>NaN</td>\n    </tr>\n    <tr>\n      <th>2</th>\n      <td>2014</td>\n      <td>Abdulla bin Ahmad Al Ghurair</td>\n      <td>305</td>\n      <td>United Arab Emirates</td>\n      <td>ARE</td>\n      <td>4.8</td>\n      <td>inherited</td>\n      <td>inherited</td>\n      <td>male</td>\n      <td>NaN</td>\n      <td>...</td>\n      <td>relation</td>\n      <td>1960.0</td>\n      <td>NaN</td>\n      <td>diversified</td>\n      <td>inherited from father</td>\n      <td>NaN</td>\n      <td>http://en.wikipedia.org/wiki/Al-Ghurair_Group</td>\n      <td>http://www.alghurair.com/about-us/our-history</td>\n      <td>NaN</td>\n      <td>NaN</td>\n    </tr>\n    <tr>\n      <th>3</th>\n      <td>2014</td>\n      <td>Abdullah Al Rajhi</td>\n      <td>731</td>\n      <td>Saudi Arabia</td>\n      <td>SAU</td>\n      <td>2.4</td>\n      <td>self-made</td>\n      <td>self-made finance</td>\n      <td>male</td>\n      <td>NaN</td>\n      <td>...</td>\n      <td>founder</td>\n      <td>1957.0</td>\n      <td>NaN</td>\n      <td>banking</td>\n      <td>NaN</td>\n      <td>NaN</td>\n      <td>http://en.wikipedia.org/wiki/Al-Rajhi_Bank</td>\n      <td>http://www.alrajhibank.com.sa/ar/investor-rela...</td>\n      <td>http://www.alrajhibank.com.sa/ar/about-us/page...</td>\n      <td>NaN</td>\n    </tr>\n    <tr>\n      <th>4</th>\n      <td>2014</td>\n      <td>Abdulsamad Rabiu</td>\n      <td>1372</td>\n      <td>Nigeria</td>\n      <td>NGA</td>\n      <td>1.2</td>\n      <td>self-made</td>\n      <td>founder non-finance</td>\n      <td>male</td>\n      <td>54.0</td>\n      <td>...</td>\n      <td>founder</td>\n      <td>1988.0</td>\n      <td>NaN</td>\n      <td>sugar, flour, cement</td>\n      <td>NaN</td>\n      <td>NaN</td>\n      <td>http://www.forbes.com/profile/abdulsamad-rabiu/</td>\n      <td>http://www.bloomberg.com/research/stocks/priva...</td>\n      <td>NaN</td>\n      <td>NaN</td>\n    </tr>\n  </tbody>\n</table>\n<p>5 rows × 30 columns</p>\n</div>",
      "text/plain": "   year                          name  rank           citizenship countrycode  \\\n0  2014          A. Jerrold Perenchio   663         United States         USA   \n1  2014            Abdulla Al Futtaim   687  United Arab Emirates         ARE   \n2  2014  Abdulla bin Ahmad Al Ghurair   305  United Arab Emirates         ARE   \n3  2014             Abdullah Al Rajhi   731          Saudi Arabia         SAU   \n4  2014              Abdulsamad Rabiu  1372               Nigeria         NGA   \n\n   networthusbillion   selfmade         typeofwealth gender   age  ...  \\\n0                2.6  self-made            executive   male  83.0  ...   \n1                2.5  inherited            inherited   male   NaN  ...   \n2                4.8  inherited            inherited   male   NaN  ...   \n3                2.4  self-made    self-made finance   male   NaN  ...   \n4                1.2  self-made  founder non-finance   male  54.0  ...   \n\n     relationshiptocompany foundingdate gdpcurrentus  \\\n0  former chairman and CEO       1955.0          NaN   \n1                 relation       1930.0          NaN   \n2                 relation       1960.0          NaN   \n3                  founder       1957.0          NaN   \n4                  founder       1988.0          NaN   \n\n              sourceofwealth                                           notes  \\\n0      television, Univision  represented Marlon Brando and Elizabeth Taylor   \n1  auto dealers, investments    company split between him and cousin in 2000   \n2                diversified                           inherited from father   \n3                    banking                                             NaN   \n4       sugar, flour, cement                                             NaN   \n\n   notes2                                           source  \\\n0     NaN     http://en.wikipedia.org/wiki/Jerry_Perenchio   \n1     NaN    http://en.wikipedia.org/wiki/Al-Futtaim_Group   \n2     NaN    http://en.wikipedia.org/wiki/Al-Ghurair_Group   \n3     NaN       http://en.wikipedia.org/wiki/Al-Rajhi_Bank   \n4     NaN  http://www.forbes.com/profile/abdulsamad-rabiu/   \n\n                                            source_2  \\\n0  http://www.forbes.com/profile/a-jerrold-perenc...   \n1  http://www.al-futtaim.ae/content/groupProfile.asp   \n2      http://www.alghurair.com/about-us/our-history   \n3  http://www.alrajhibank.com.sa/ar/investor-rela...   \n4  http://www.bloomberg.com/research/stocks/priva...   \n\n                                            source_3 source_4  \n0  COLUMN ONE; A Hollywood Player Who Owns the Ga...      NaN  \n1                                                NaN      NaN  \n2                                                NaN      NaN  \n3  http://www.alrajhibank.com.sa/ar/about-us/page...      NaN  \n4                                                NaN      NaN  \n\n[5 rows x 30 columns]"
     },
     "execution_count": 53,
     "metadata": {},
     "output_type": "execute_result"
    }
   ],
   "source": [
    "# or just the head-function\n",
    "df.head()"
   ]
  },
  {
   "cell_type": "markdown",
   "metadata": {},
   "source": [
    "## 3) Who are the top 10 richest billionaires? Use the `networthusbillion` column."
   ]
  },
  {
   "cell_type": "code",
   "execution_count": 54,
   "metadata": {},
   "outputs": [
    {
     "data": {
      "text/html": "<div>\n<style scoped>\n    .dataframe tbody tr th:only-of-type {\n        vertical-align: middle;\n    }\n\n    .dataframe tbody tr th {\n        vertical-align: top;\n    }\n\n    .dataframe thead th {\n        text-align: right;\n    }\n</style>\n<table border=\"1\" class=\"dataframe\">\n  <thead>\n    <tr style=\"text-align: right;\">\n      <th></th>\n      <th>name</th>\n      <th>networthusbillion</th>\n    </tr>\n  </thead>\n  <tbody>\n    <tr>\n      <th>184</th>\n      <td>Bill Gates</td>\n      <td>76.0</td>\n    </tr>\n    <tr>\n      <th>226</th>\n      <td>Carlos Slim Helu</td>\n      <td>72.0</td>\n    </tr>\n    <tr>\n      <th>79</th>\n      <td>Amancio Ortega</td>\n      <td>64.0</td>\n    </tr>\n    <tr>\n      <th>1562</th>\n      <td>Warren Buffett</td>\n      <td>58.2</td>\n    </tr>\n    <tr>\n      <th>862</th>\n      <td>Larry Ellison</td>\n      <td>48.0</td>\n    </tr>\n    <tr>\n      <th>339</th>\n      <td>David Koch</td>\n      <td>40.0</td>\n    </tr>\n    <tr>\n      <th>247</th>\n      <td>Charles Koch</td>\n      <td>40.0</td>\n    </tr>\n    <tr>\n      <th>1364</th>\n      <td>Sheldon Adelson</td>\n      <td>38.0</td>\n    </tr>\n    <tr>\n      <th>280</th>\n      <td>Christy Walton</td>\n      <td>36.7</td>\n    </tr>\n    <tr>\n      <th>724</th>\n      <td>Jim Walton</td>\n      <td>34.7</td>\n    </tr>\n  </tbody>\n</table>\n</div>",
      "text/plain": "                  name  networthusbillion\n184         Bill Gates               76.0\n226   Carlos Slim Helu               72.0\n79      Amancio Ortega               64.0\n1562    Warren Buffett               58.2\n862      Larry Ellison               48.0\n339         David Koch               40.0\n247       Charles Koch               40.0\n1364   Sheldon Adelson               38.0\n280     Christy Walton               36.7\n724         Jim Walton               34.7"
     },
     "execution_count": 54,
     "metadata": {},
     "output_type": "execute_result"
    }
   ],
   "source": [
    "# get the 10 richest billionaires\n",
    "df_top_10_richest = df.sort_values(by='networthusbillion', ascending=False).head(10)\n",
    "\n",
    "# select only the name and networthusbillion columns\n",
    "df_top_10_richest = df_top_10_richest[['name', 'networthusbillion']]\n",
    "\n",
    "# Show the new dataframe\n",
    "df_top_10_richest"
   ]
  },
  {
   "cell_type": "markdown",
   "metadata": {},
   "source": [
    "## 4a) How many male billionaires are there compared to the number of female billionares?\n",
    "\n",
    "> **TIP:** This is not a `.groupby`"
   ]
  },
  {
   "cell_type": "code",
   "execution_count": 55,
   "metadata": {},
   "outputs": [
    {
     "name": "stdout",
     "output_type": "stream",
     "text": [
      "1473\n"
     ]
    }
   ],
   "source": [
    "# get the number of male billionaires:\n",
    "male_billionaires = df[df['gender'] == 'male'].shape[0]\n",
    "print(male_billionaires)"
   ]
  },
  {
   "cell_type": "code",
   "execution_count": 56,
   "metadata": {},
   "outputs": [
    {
     "name": "stdout",
     "output_type": "stream",
     "text": [
      "180\n"
     ]
    }
   ],
   "source": [
    "# get the number of female billionaires:\n",
    "female_billionaires = df[df['gender'] == 'female'].shape[0]\n",
    "print(female_billionaires)"
   ]
  },
  {
   "cell_type": "code",
   "execution_count": 57,
   "metadata": {},
   "outputs": [
    {
     "name": "stdout",
     "output_type": "stream",
     "text": [
      "In total, there are 1473 male billionaires and only 180 female billionaires.\n"
     ]
    }
   ],
   "source": [
    "# write out the result in a pretty neat sentence:\n",
    "print(\"In total, there are\", male_billionaires,\"male billionaires and only\", female_billionaires,\"female billionaires.\")"
   ]
  },
  {
   "cell_type": "markdown",
   "metadata": {},
   "source": [
    "## 4b) What percent is that?\n",
    "\n",
    "> **TIP:** Doing percentages with the answer to `4a` is so common that there's an extra parameter to automatically calculate it. Look at the documentation!"
   ]
  },
  {
   "cell_type": "code",
   "execution_count": 58,
   "metadata": {},
   "outputs": [
    {
     "data": {
      "text/plain": "male      89.110708\nfemale    10.889292\nName: gender, dtype: float64"
     },
     "execution_count": 58,
     "metadata": {},
     "output_type": "execute_result"
    }
   ],
   "source": [
    "df['gender'].value_counts(normalize=True) * 100"
   ]
  },
  {
   "cell_type": "markdown",
   "metadata": {},
   "source": [
    "## 4c) Is the average wealth different for a female billionaire as compared to a male billionaire?\n",
    "\n",
    "> **TIP:** This one *does* use `.groupby`. You can pick what 'average' means in this context."
   ]
  },
  {
   "cell_type": "code",
   "execution_count": 59,
   "metadata": {},
   "outputs": [],
   "source": [
    "# filter df by gender\n",
    "male_billionaires = df[df['gender'] == 'male']\n",
    "female_billionaires = df[df['gender'] == 'female']"
   ]
  },
  {
   "cell_type": "code",
   "execution_count": 60,
   "metadata": {},
   "outputs": [
    {
     "name": "stdout",
     "output_type": "stream",
     "text": [
      "Average wealth of male billionaires: 3.9027155465037335 billion USD\n"
     ]
    }
   ],
   "source": [
    "# calculate the average net worth for male billionaires\n",
    "average_wealth_male = male_billionaires['networthusbillion'].mean()\n",
    "print(f\"Average wealth of male billionaires: {average_wealth_male} billion USD\")"
   ]
  },
  {
   "cell_type": "code",
   "execution_count": 61,
   "metadata": {},
   "outputs": [
    {
     "name": "stdout",
     "output_type": "stream",
     "text": [
      "Average wealth of female billionaires: 3.9205555555555547 billion USD\n"
     ]
    }
   ],
   "source": [
    "# calculate the average net worth for female billionaires\n",
    "average_wealth_female = female_billionaires['networthusbillion'].mean()\n",
    "print(f\"Average wealth of female billionaires: {average_wealth_female} billion USD\")"
   ]
  },
  {
   "cell_type": "code",
   "execution_count": 62,
   "metadata": {},
   "outputs": [
    {
     "name": "stdout",
     "output_type": "stream",
     "text": [
      "Female billionaires have a higher average wealth.\n"
     ]
    }
   ],
   "source": [
    "# compare the averages\n",
    "if average_wealth_male > average_wealth_female:\n",
    "    print(\"Male billionaires have a higher average wealth.\")\n",
    "elif average_wealth_male < average_wealth_female:\n",
    "    print(\"Female billionaires have a higher average wealth.\")\n",
    "else:\n",
    "    print(\"Male and female billionaires have the same average wealth.\")"
   ]
  },
  {
   "cell_type": "markdown",
   "metadata": {},
   "source": [
    "## 5a) What is the most common source/type of wealth?"
   ]
  },
  {
   "cell_type": "code",
   "execution_count": 63,
   "metadata": {},
   "outputs": [
    {
     "data": {
      "text/plain": "Index(['year', 'name', 'rank', 'citizenship', 'countrycode',\n       'networthusbillion', 'selfmade', 'typeofwealth', 'gender', 'age',\n       'industry', 'IndustryAggregates', 'region', 'north',\n       'politicalconnection', 'founder', 'generationofinheritance', 'sector',\n       'company', 'companytype', 'relationshiptocompany', 'foundingdate',\n       'gdpcurrentus', 'sourceofwealth', 'notes', 'notes2', 'source',\n       'source_2', 'source_3', 'source_4'],\n      dtype='object')"
     },
     "execution_count": 63,
     "metadata": {},
     "output_type": "execute_result"
    }
   ],
   "source": [
    "## SOURCE OF WEALTH: ###\n",
    "\n",
    "# check the columns first to see the source/type of wealth:\n",
    "df.columns # so it is the \"sourceofwealth\" column"
   ]
  },
  {
   "cell_type": "code",
   "execution_count": 64,
   "metadata": {},
   "outputs": [
    {
     "name": "stdout",
     "output_type": "stream",
     "text": [
      "The most common source of wealth is real estate.\n"
     ]
    }
   ],
   "source": [
    "# check the number of differentt occurences in the \"sourceofwealth\"-column\n",
    "source_of_wealth_value_counts = df['sourceofwealth'].value_counts()\n",
    "\n",
    "# get the source of wealth with the maximum count\n",
    "max_value = source_of_wealth_value_counts.idxmax()\n",
    "\n",
    "# print a nice sentence with the answer:\n",
    "print(f\"The most common source of wealth is {max_value}.\")"
   ]
  },
  {
   "cell_type": "code",
   "execution_count": 65,
   "metadata": {},
   "outputs": [
    {
     "name": "stdout",
     "output_type": "stream",
     "text": [
      "The most common type of wealth is inherited.\n"
     ]
    }
   ],
   "source": [
    "### TYPE OF WEALTH: ####\n",
    "\n",
    "# check the number of differentt occurences in the \"typeofwealth\"-column\n",
    "type_of_wealth_value_counts = df['typeofwealth'].value_counts()\n",
    "\n",
    "# get the type of wealth with the maximum count\n",
    "max_value = type_of_wealth_value_counts .idxmax()\n",
    "\n",
    "# print a nice sentence with the answer:\n",
    "print(f\"The most common type of wealth is {max_value}.\")"
   ]
  },
  {
   "cell_type": "markdown",
   "metadata": {},
   "source": [
    "## 5b) Is the most common source/type of wealth different between men and women?\n",
    "\n",
    "> **TIP:** You know how to `groupby` and you know how to count how many times a value is in a column. Can you put them together??? You could also do this as two separate cells where you calculate it separately for men and women.\n",
    ">\n",
    "> **TIP:** Use percentages for this, it makes it a lot more readable."
   ]
  },
  {
   "cell_type": "code",
   "execution_count": 66,
   "metadata": {},
   "outputs": [
    {
     "name": "stdout",
     "output_type": "stream",
     "text": [
      "The most common source of wealth for men is real estate.\n"
     ]
    }
   ],
   "source": [
    "## SOURCE OF WEALTH ###\n",
    "\n",
    "# first the most common source of wealth with men \n",
    "\n",
    "most_common_source_of_wealth_for_men = df[df[\"gender\"] == \"male\"]['sourceofwealth'].value_counts().idxmax()\n",
    "print(f\"The most common source of wealth for men is {most_common_source_of_wealth_for_men}.\")"
   ]
  },
  {
   "cell_type": "code",
   "execution_count": 67,
   "metadata": {},
   "outputs": [
    {
     "name": "stdout",
     "output_type": "stream",
     "text": [
      "The most common source of wealth for women is diversified.\n"
     ]
    }
   ],
   "source": [
    "# first the most common source of wealth - now for women\n",
    "\n",
    "most_common_source_of_wealth_for_women = df[df[\"gender\"] == \"female\"]['sourceofwealth'].value_counts().idxmax()\n",
    "print(f\"The most common source of wealth for women is {most_common_source_of_wealth_for_women}.\")"
   ]
  },
  {
   "cell_type": "code",
   "execution_count": 68,
   "metadata": {},
   "outputs": [
    {
     "data": {
      "text/plain": "gender  sourceofwealth\nfemale  diversified       5.232558\n        real estate       4.069767\n        media             3.488372\n        construction      2.906977\n        consumer goods    2.906977\n                            ...   \nmale    web hosting       0.068353\n        wind turbines     0.068353\n        wine              0.068353\n        winter jackets    0.068353\n        wrestling         0.068353\nName: sourceofwealth, Length: 677, dtype: float64"
     },
     "execution_count": 68,
     "metadata": {},
     "output_type": "execute_result"
    }
   ],
   "source": [
    "# Another way: The groupby method\n",
    "df.groupby('gender')['sourceofwealth'].value_counts(normalize=True) * 100"
   ]
  },
  {
   "cell_type": "code",
   "execution_count": 69,
   "metadata": {},
   "outputs": [
    {
     "name": "stdout",
     "output_type": "stream",
     "text": [
      "The most common type of wealth for men is founder non-finance.\n"
     ]
    }
   ],
   "source": [
    "## TYPE OF WEALTH ###\n",
    "\n",
    "# first the most common type of wealth with men \n",
    "\n",
    "most_common_type_of_wealth_for_men = df[df[\"gender\"] == \"male\"]['typeofwealth'].value_counts().idxmax()\n",
    "print(f\"The most common type of wealth for men is {most_common_type_of_wealth_for_men}.\")"
   ]
  },
  {
   "cell_type": "code",
   "execution_count": 70,
   "metadata": {},
   "outputs": [
    {
     "name": "stdout",
     "output_type": "stream",
     "text": [
      "The most common source of wealth for women is real estate.\n"
     ]
    }
   ],
   "source": [
    "## SOURCE OF WEALTH ###\n",
    "\n",
    "# first the most common source of wealth with women \n",
    "\n",
    "most_common_source_of_wealth_for_women = df[df[\"gender\"] == \"male\"]['sourceofwealth'].value_counts().idxmax()\n",
    "print(f\"The most common source of wealth for women is {most_common_source_of_wealth_for_women}.\")"
   ]
  },
  {
   "cell_type": "code",
   "execution_count": 71,
   "metadata": {},
   "outputs": [
    {
     "data": {
      "text/plain": "gender  typeofwealth            \nfemale  inherited                   78.888889\n        founder non-finance         11.666667\n        executive                    3.333333\n        self-made finance            3.333333\n        privatized and resources     2.777778\nmale    founder non-finance         30.319511\n        inherited                   24.745071\n        self-made finance           22.977566\n        privatized and resources    12.712441\n        executive                    9.245411\nName: typeofwealth, dtype: float64"
     },
     "execution_count": 71,
     "metadata": {},
     "output_type": "execute_result"
    }
   ],
   "source": [
    "# Another way: The groupby method\n",
    "df.groupby('gender')['typeofwealth'].value_counts(normalize=True) * 100"
   ]
  },
  {
   "cell_type": "markdown",
   "metadata": {},
   "source": [
    "## 6a) What companies have the most billionaires? Let's see the top five.\n",
    "\n",
    "> **TIP:** You can use `.head()` on *anything*, not just your basic `df`\n",
    ">\n",
    "> **TIP:** You might feel like you should use `groupby`, but don't! There's an easier way to count."
   ]
  },
  {
   "cell_type": "code",
   "execution_count": 72,
   "metadata": {},
   "outputs": [
    {
     "data": {
      "text/plain": "Hyatt                  11\nOetker-Gruppe           8\nS. C. Johnson & Son     7\nAlfa Group              6\nVotorantim Group        6\nName: company, dtype: int64"
     },
     "execution_count": 72,
     "metadata": {},
     "output_type": "execute_result"
    }
   ],
   "source": [
    "# filter out the companies\n",
    "df_companies = df['company'].value_counts(ascending=False)\n",
    "\n",
    "# turn this series into a real dataframe\n",
    "#df_companies = pd.DataFrame(df_companies) \n",
    "\n",
    "# check out the top five companies\n",
    "df_companies.head(5)"
   ]
  },
  {
   "cell_type": "markdown",
   "metadata": {},
   "source": [
    "### 6b) Graph those top 5 as a horizontal bar graph. Make the largest bar be at the top of the graph.\n",
    "\n",
    "> **TIP:** Just try to throw `.plot()` on the end??\n",
    "> \n",
    "> **TIP:** Make the largest bar be at the top of the graph\n",
    ">\n",
    "> **TIP:** If your chart seems... weird, think about where in the process you're sorting vs using `head`"
   ]
  },
  {
   "cell_type": "code",
   "execution_count": 77,
   "metadata": {},
   "outputs": [],
   "source": [
    "# import matplotlib\n",
    "import matplotlib"
   ]
  },
  {
   "cell_type": "code",
   "execution_count": 80,
   "metadata": {},
   "outputs": [
    {
     "data": {
      "text/plain": "<AxesSubplot:>"
     },
     "execution_count": 80,
     "metadata": {},
     "output_type": "execute_result"
    },
    {
     "data": {
      "image/png": "[encoded data removed]",
      "text/plain": "<Figure size 432x288 with 1 Axes>"
     },
     "metadata": {
      "needs_background": "light"
     },
     "output_type": "display_data"
    }
   ],
   "source": [
    "# exact only the op first five companies\n",
    "top_five_companies = df_companies.nlargest(5)\n",
    "# plot a bar chart (couldnt make the horizontal...)\n",
    "top_five_companies.plot(kind='bar')"
   ]
  },
  {
   "cell_type": "markdown",
   "metadata": {},
   "source": [
    "## 7) How much money do these top 5 billionaires have in total?\n",
    "\n",
    "> **TIP:** for multiple conditions, you can't use `or` and `and`. In pandas, `|` means *or* and `&` means *and*.\n",
    ">\n",
    "> **TIP:** Checking multiple conditions can be done two ways.\n",
    "> - `(df.colname == 'A') | (df.colname == 'B')`\n",
    "> - `df.colname.isin(['A', 'B'])`"
   ]
  },
  {
   "cell_type": "code",
   "execution_count": 92,
   "metadata": {},
   "outputs": [
    {
     "name": "stdout",
     "output_type": "stream",
     "text": [
      "The top 5 billionaires have a total of 318.2 billion US-Dollar of networth.\n"
     ]
    }
   ],
   "source": [
    "# make a new df for top 5 billionaires\n",
    "top_5_billionaires = df.nlargest(5, 'networthusbillion')\n",
    "\n",
    "# sum up the networthbillion column\n",
    "total_networth = top_5_billionaires['networthusbillion'].sum()\n",
    "\n",
    "# # print out the answer\n",
    "print(f'The top 5 billionaires have a total of {total_networth} billion US-Dollar of networth.')"
   ]
  },
  {
   "cell_type": "markdown",
   "metadata": {},
   "source": [
    "## 8) What are the top 10 countries with the most money held by billionaires?\n",
    "\n",
    "I am **not** asking which country has the most billionaires - this is **total amount of money per country.**\n",
    "\n",
    "> **TIP:** Think about it in steps - \"I want them organized by country,\" \"I want their net worth,\" \"I want to add it all up,\" and \"I want 10 of them.\" Just chain it all together."
   ]
  },
  {
   "cell_type": "code",
   "execution_count": 102,
   "metadata": {},
   "outputs": [
    {
     "name": "stdout",
     "output_type": "stream",
     "text": [
      "countrycode\n",
      "USA    2322.4\n",
      "RUS     422.5\n",
      "DEU     401.4\n",
      "CHN     375.8\n",
      "FRA     235.3\n",
      "HKG     213.7\n",
      "BRA     192.2\n",
      "IND     191.9\n",
      "ITA     158.1\n",
      "GBR     152.0\n",
      "Name: networthusbillion, dtype: float64\n"
     ]
    }
   ],
   "source": [
    "# # use the groupby method\n",
    "\n",
    "# Correct the code to group by 'country' and then sum the 'networthbillion'\n",
    "total_amount_of_money_per_countrycode = df.groupby('countrycode')['networthusbillion'].sum().nlargest(10)\n",
    "\n",
    "# Print the result\n",
    "print(total_amount_of_money_per_countrycode)"
   ]
  },
  {
   "cell_type": "markdown",
   "metadata": {},
   "source": [
    "## 9a) How old is an average billionaire?"
   ]
  },
  {
   "cell_type": "code",
   "execution_count": 105,
   "metadata": {},
   "outputs": [
    {
     "name": "stdout",
     "output_type": "stream",
     "text": [
      "The average billionaire is 63.34213836477988 years old.\n"
     ]
    }
   ],
   "source": [
    "# get the average of the 'age'-column\n",
    "average_age = df['age'].mean()\n",
    "\n",
    "# print out the answer nicely\n",
    "print(f'The average billionaire is {average_age} years old.')"
   ]
  },
  {
   "cell_type": "markdown",
   "metadata": {},
   "source": [
    "## 9b) How old are self-made billionaires compared to non self-made billionaires? "
   ]
  },
  {
   "cell_type": "code",
   "execution_count": 134,
   "metadata": {},
   "outputs": [
    {
     "name": "stdout",
     "output_type": "stream",
     "text": [
      "The average selfmade billionaire is 62.62589928057554 years old.\n"
     ]
    }
   ],
   "source": [
    "# first the SELF-MADE\n",
    "\n",
    "# get a dataframe with only the selfmade billionaired\n",
    "df_selfmade = df[df['selfmade'] == 'self-made']\n",
    "\n",
    "# filter out all NaNs \n",
    "df_selfmade_final = df_selfmade.dropna(subset=['age'])\n",
    "\n",
    "# average age of selfmade billionaires\n",
    "average_age_selfmade_billionaires = df_selfmade_final['age'].mean()\n",
    "\n",
    "print(f'The average selfmade billionaire is {average_age_selfmade_billionaires} years old.')"
   ]
  },
  {
   "cell_type": "code",
   "execution_count": 139,
   "metadata": {},
   "outputs": [
    {
     "name": "stdout",
     "output_type": "stream",
     "text": [
      "The average selfmade billionaire is 65.00836820083683 years old.\n"
     ]
    }
   ],
   "source": [
    "# now the NON-SELF-MADE\n",
    "\n",
    "# get a dataframe with only the selfmade billionaired\n",
    "df_non_selfmade = df[df['selfmade'] != 'self-made']\n",
    "\n",
    "# filter out all NaNs \n",
    "df_non_selfmade_final = df_non_selfmade.dropna(subset=['age'])\n",
    "\n",
    "# average age of selfmade billionaires\n",
    "average_age_non_selfmade_billionaires = df_non_selfmade_final['age'].mean()\n",
    "\n",
    "print(f'The average selfmade billionaire is {average_age_non_selfmade_billionaires} years old.')"
   ]
  },
  {
   "cell_type": "markdown",
   "metadata": {},
   "source": [
    "## 10a) Who are the three youngest billionaires? Who are the three oldest?"
   ]
  },
  {
   "cell_type": "code",
   "execution_count": 115,
   "metadata": {},
   "outputs": [
    {
     "data": {
      "text/html": "<div>\n<style scoped>\n    .dataframe tbody tr th:only-of-type {\n        vertical-align: middle;\n    }\n\n    .dataframe tbody tr th {\n        vertical-align: top;\n    }\n\n    .dataframe thead th {\n        text-align: right;\n    }\n</style>\n<table border=\"1\" class=\"dataframe\">\n  <thead>\n    <tr style=\"text-align: right;\">\n      <th></th>\n      <th>year</th>\n      <th>name</th>\n      <th>rank</th>\n      <th>citizenship</th>\n      <th>countrycode</th>\n      <th>networthusbillion</th>\n      <th>selfmade</th>\n      <th>typeofwealth</th>\n      <th>gender</th>\n      <th>age</th>\n      <th>...</th>\n      <th>relationshiptocompany</th>\n      <th>foundingdate</th>\n      <th>gdpcurrentus</th>\n      <th>sourceofwealth</th>\n      <th>notes</th>\n      <th>notes2</th>\n      <th>source</th>\n      <th>source_2</th>\n      <th>source_3</th>\n      <th>source_4</th>\n    </tr>\n  </thead>\n  <tbody>\n    <tr>\n      <th>1172</th>\n      <td>2014</td>\n      <td>Perenna Kei</td>\n      <td>1284</td>\n      <td>Hong Kong</td>\n      <td>HKG</td>\n      <td>1.3</td>\n      <td>inherited</td>\n      <td>inherited</td>\n      <td>female</td>\n      <td>24.0</td>\n      <td>...</td>\n      <td>relation</td>\n      <td>1996.0</td>\n      <td>NaN</td>\n      <td>real estate</td>\n      <td>inherited from father</td>\n      <td>NaN</td>\n      <td>http://en.wikipedia.org/wiki/Perenna_Kei</td>\n      <td>http://www.loganestate.com/en/about.aspx?ftid=294</td>\n      <td>NaN</td>\n      <td>NaN</td>\n    </tr>\n    <tr>\n      <th>397</th>\n      <td>2014</td>\n      <td>Dustin Moskovitz</td>\n      <td>202</td>\n      <td>United States</td>\n      <td>USA</td>\n      <td>6.8</td>\n      <td>self-made</td>\n      <td>founder non-finance</td>\n      <td>male</td>\n      <td>29.0</td>\n      <td>...</td>\n      <td>founder</td>\n      <td>2004.0</td>\n      <td>NaN</td>\n      <td>Facebook</td>\n      <td>NaN</td>\n      <td>NaN</td>\n      <td>http://en.wikipedia.org/wiki/Dustin_Moskovitz</td>\n      <td>http://www.forbes.com/profile/dustin-moskovitz/</td>\n      <td>https://www.facebook.com/facebook/info?tab=pag...</td>\n      <td>NaN</td>\n    </tr>\n    <tr>\n      <th>1004</th>\n      <td>2014</td>\n      <td>Mark Zuckerberg</td>\n      <td>21</td>\n      <td>United States</td>\n      <td>USA</td>\n      <td>28.5</td>\n      <td>self-made</td>\n      <td>founder non-finance</td>\n      <td>male</td>\n      <td>29.0</td>\n      <td>...</td>\n      <td>founder</td>\n      <td>2004.0</td>\n      <td>NaN</td>\n      <td>Facebook</td>\n      <td>NaN</td>\n      <td>NaN</td>\n      <td>http://www.forbes.com/profile/mark-zuckerberg/</td>\n      <td>NaN</td>\n      <td>NaN</td>\n      <td>NaN</td>\n    </tr>\n  </tbody>\n</table>\n<p>3 rows × 30 columns</p>\n</div>",
      "text/plain": "      year              name  rank    citizenship countrycode  \\\n1172  2014       Perenna Kei  1284      Hong Kong         HKG   \n397   2014  Dustin Moskovitz   202  United States         USA   \n1004  2014   Mark Zuckerberg    21  United States         USA   \n\n      networthusbillion   selfmade         typeofwealth  gender   age  ...  \\\n1172                1.3  inherited            inherited  female  24.0  ...   \n397                 6.8  self-made  founder non-finance    male  29.0  ...   \n1004               28.5  self-made  founder non-finance    male  29.0  ...   \n\n     relationshiptocompany foundingdate gdpcurrentus  sourceofwealth  \\\n1172              relation       1996.0          NaN     real estate   \n397                founder       2004.0          NaN        Facebook   \n1004               founder       2004.0          NaN        Facebook   \n\n                      notes  notes2  \\\n1172  inherited from father     NaN   \n397                     NaN     NaN   \n1004                    NaN     NaN   \n\n                                              source  \\\n1172        http://en.wikipedia.org/wiki/Perenna_Kei   \n397    http://en.wikipedia.org/wiki/Dustin_Moskovitz   \n1004  http://www.forbes.com/profile/mark-zuckerberg/   \n\n                                               source_2  \\\n1172  http://www.loganestate.com/en/about.aspx?ftid=294   \n397     http://www.forbes.com/profile/dustin-moskovitz/   \n1004                                                NaN   \n\n                                               source_3 source_4  \n1172                                                NaN      NaN  \n397   https://www.facebook.com/facebook/info?tab=pag...      NaN  \n1004                                                NaN      NaN  \n\n[3 rows x 30 columns]"
     },
     "execution_count": 115,
     "metadata": {},
     "output_type": "execute_result"
    }
   ],
   "source": [
    "# sort the billionaires by age\n",
    "\n",
    "# first: delete out all billionaires which do have a NaN in their 'age' column\n",
    "df_billionaires_with_age  = df.dropna(subset=['age'])\n",
    "\n",
    "# Sort the DataFrame by the 'networthbillion' column in ascending order\n",
    "sorted_df_billionaires_by_age = df_billionaires_with_age.sort_values(by='age', ascending=True)\n",
    "\n",
    "# show the three youngest billionaires\n",
    "sorted_df_billionaires_by_age.head(3) # the three youngest are: Perenna Kei, Dustin Moskovitz and Mark Zuckerberg"
   ]
  },
  {
   "cell_type": "code",
   "execution_count": 116,
   "metadata": {},
   "outputs": [
    {
     "data": {
      "text/html": "<div>\n<style scoped>\n    .dataframe tbody tr th:only-of-type {\n        vertical-align: middle;\n    }\n\n    .dataframe tbody tr th {\n        vertical-align: top;\n    }\n\n    .dataframe thead th {\n        text-align: right;\n    }\n</style>\n<table border=\"1\" class=\"dataframe\">\n  <thead>\n    <tr style=\"text-align: right;\">\n      <th></th>\n      <th>year</th>\n      <th>name</th>\n      <th>rank</th>\n      <th>citizenship</th>\n      <th>countrycode</th>\n      <th>networthusbillion</th>\n      <th>selfmade</th>\n      <th>typeofwealth</th>\n      <th>gender</th>\n      <th>age</th>\n      <th>...</th>\n      <th>relationshiptocompany</th>\n      <th>foundingdate</th>\n      <th>gdpcurrentus</th>\n      <th>sourceofwealth</th>\n      <th>notes</th>\n      <th>notes2</th>\n      <th>source</th>\n      <th>source_2</th>\n      <th>source_3</th>\n      <th>source_4</th>\n    </tr>\n  </thead>\n  <tbody>\n    <tr>\n      <th>836</th>\n      <td>2014</td>\n      <td>Kirk Kerkorian</td>\n      <td>328</td>\n      <td>United States</td>\n      <td>USA</td>\n      <td>4.5</td>\n      <td>self-made</td>\n      <td>self-made finance</td>\n      <td>male</td>\n      <td>96.0</td>\n      <td>...</td>\n      <td>investor</td>\n      <td>1924.0</td>\n      <td>NaN</td>\n      <td>casinos, investments</td>\n      <td>purchased in 1969</td>\n      <td>NaN</td>\n      <td>http://en.wikipedia.org/wiki/Kirk_Kerkorian</td>\n      <td>http://www.forbes.com/profile/kirk-kerkorian/</td>\n      <td>PROFILE: Las Vegas billionaire amassed his wea...</td>\n      <td>NaN</td>\n    </tr>\n    <tr>\n      <th>816</th>\n      <td>2014</td>\n      <td>Karl Wlaschek</td>\n      <td>305</td>\n      <td>Austria</td>\n      <td>AUT</td>\n      <td>4.8</td>\n      <td>self-made</td>\n      <td>founder non-finance</td>\n      <td>male</td>\n      <td>96.0</td>\n      <td>...</td>\n      <td>founder</td>\n      <td>1953.0</td>\n      <td>NaN</td>\n      <td>retail</td>\n      <td>NaN</td>\n      <td>NaN</td>\n      <td>http://en.wikipedia.org/wiki/BILLA</td>\n      <td>http://en.wikipedia.org/wiki/Karl_Wlaschek</td>\n      <td>https://www.billa.at/Footer_Nav_Seiten/Geschic...</td>\n      <td>NaN</td>\n    </tr>\n    <tr>\n      <th>343</th>\n      <td>2014</td>\n      <td>David Rockefeller, Sr.</td>\n      <td>580</td>\n      <td>United States</td>\n      <td>USA</td>\n      <td>2.9</td>\n      <td>inherited</td>\n      <td>inherited</td>\n      <td>male</td>\n      <td>98.0</td>\n      <td>...</td>\n      <td>relation</td>\n      <td>1870.0</td>\n      <td>NaN</td>\n      <td>oil, banking</td>\n      <td>family made most of fortune in the late 19th a...</td>\n      <td>NaN</td>\n      <td>http://en.wikipedia.org/wiki/David_Rockefeller</td>\n      <td>http://en.wikipedia.org/wiki/Standard_Oil</td>\n      <td>http://en.wikipedia.org/wiki/Rockefeller_family</td>\n      <td>NaN</td>\n    </tr>\n  </tbody>\n</table>\n<p>3 rows × 30 columns</p>\n</div>",
      "text/plain": "     year                    name  rank    citizenship countrycode  \\\n836  2014          Kirk Kerkorian   328  United States         USA   \n816  2014           Karl Wlaschek   305        Austria         AUT   \n343  2014  David Rockefeller, Sr.   580  United States         USA   \n\n     networthusbillion   selfmade         typeofwealth gender   age  ...  \\\n836                4.5  self-made    self-made finance   male  96.0  ...   \n816                4.8  self-made  founder non-finance   male  96.0  ...   \n343                2.9  inherited            inherited   male  98.0  ...   \n\n    relationshiptocompany foundingdate gdpcurrentus        sourceofwealth  \\\n836              investor       1924.0          NaN  casinos, investments   \n816               founder       1953.0          NaN                retail   \n343              relation       1870.0          NaN          oil, banking   \n\n                                                 notes  notes2  \\\n836                                  purchased in 1969     NaN   \n816                                                NaN     NaN   \n343  family made most of fortune in the late 19th a...     NaN   \n\n                                             source  \\\n836     http://en.wikipedia.org/wiki/Kirk_Kerkorian   \n816              http://en.wikipedia.org/wiki/BILLA   \n343  http://en.wikipedia.org/wiki/David_Rockefeller   \n\n                                          source_2  \\\n836  http://www.forbes.com/profile/kirk-kerkorian/   \n816     http://en.wikipedia.org/wiki/Karl_Wlaschek   \n343      http://en.wikipedia.org/wiki/Standard_Oil   \n\n                                              source_3 source_4  \n836  PROFILE: Las Vegas billionaire amassed his wea...      NaN  \n816  https://www.billa.at/Footer_Nav_Seiten/Geschic...      NaN  \n343    http://en.wikipedia.org/wiki/Rockefeller_family      NaN  \n\n[3 rows x 30 columns]"
     },
     "execution_count": 116,
     "metadata": {},
     "output_type": "execute_result"
    }
   ],
   "source": [
    "# show the three oldest billionaires\n",
    "sorted_df_billionaires_by_age.tail(3) # the three odes are Kirk Kerkorian, Karl Wlaschek and David Rockefeller"
   ]
  },
  {
   "cell_type": "markdown",
   "metadata": {},
   "source": [
    "## 10b) Make a graph of the distribution of ages.\n",
    "\n",
    "> **TIP:** You use `.plot()` to graph values in a column independently, but `.hist()` to draw a [histogram](https://www.mathsisfun.com/data/histograms.html) of the distribution of their values"
   ]
  },
  {
   "cell_type": "code",
   "execution_count": 119,
   "metadata": {},
   "outputs": [
    {
     "data": {
      "text/plain": "<AxesSubplot:>"
     },
     "execution_count": 119,
     "metadata": {},
     "output_type": "execute_result"
    },
    {
     "data": {
      "image/png": "[encoded data removed]",
      "text/plain": "<Figure size 432x288 with 1 Axes>"
     },
     "metadata": {
      "needs_background": "light"
     },
     "output_type": "display_data"
    }
   ],
   "source": [
    "# take the new dataframe where only billionaires are included which have a value in the \"age\" column\n",
    "sorted_df_billionaires_by_age['age'].hist()"
   ]
  },
  {
   "cell_type": "markdown",
   "metadata": {},
   "source": [
    "## 11) Make a scatterplot of net worth compared to age\n",
    "\n",
    "It's more fun to do this in Altair as compared to matplotlib, but either is fine."
   ]
  },
  {
   "cell_type": "code",
   "execution_count": 143,
   "metadata": {},
   "outputs": [
    {
     "data": {
      "image/png": "[encoded data removed]",
      "text/plain": "<Figure size 720x432 with 1 Axes>"
     },
     "metadata": {
      "needs_background": "light"
     },
     "output_type": "display_data"
    }
   ],
   "source": [
    "# import matplotlib\n",
    "import matplotlib.pyplot as plt\n",
    "\n",
    "# make a scatterplot\n",
    "\n",
    "# Create a scatter plot with age and net worth\n",
    "plt.figure(figsize=(10, 6))\n",
    "plt.scatter(df['age'], df['networthusbillion'], color='blue', edgecolors='black')\n",
    "\n",
    "# Add titles and labels\n",
    "plt.title('Scatter Plot of Age vs. Net Worth')\n",
    "plt.xlabel('Age')\n",
    "plt.ylabel('Net Worth (in billions)')\n",
    "\n",
    "# Optionally, add grid lines for better readability\n",
    "plt.grid(True)\n",
    "\n",
    "# Show the plot\n",
    "plt.show()"
   ]
  },
  {
   "cell_type": "markdown",
   "metadata": {},
   "source": [
    "## 13) Make a bar graph of the wealth of the top 10 richest billionaires\n",
    "\n",
    "> **TIP:** When you make your plot, you'll need to set the `x` and `y` or else your chart will look _crazy_\n",
    ">\n",
    "> **TIP:** x and y might be the opposite of what you expect them to be"
   ]
  },
  {
   "cell_type": "code",
   "execution_count": 154,
   "metadata": {},
   "outputs": [
    {
     "data": {
      "image/png": "[encoded data removed]",
      "text/plain": "<Figure size 864x576 with 1 Axes>"
     },
     "metadata": {
      "needs_background": "light"
     },
     "output_type": "display_data"
    }
   ],
   "source": [
    "# filter out the dataframe to only get the top 10\n",
    "df_top_10 = df.sort_values(by='networthusbillion', ascending=False).head(10)\n",
    "\n",
    "# create a bar graph\n",
    "plt.figure(figsize=(12, 8))\n",
    "plt.bar(df_top_10['name'], df_top_10['networthusbillion'], color='green')\n",
    "\n",
    "# add titles and labels\n",
    "plt.title('Top 10 Richest Billionaires by Net Worth')\n",
    "plt.xlabel('Billionaire')\n",
    "plt.ylabel('Net Worth (in billions)')\n",
    "\n",
    "# rotate x-axis labels for better readability\n",
    "plt.xticks(rotation=45, ha='right')\n",
    "\n",
    "# show the plot\n",
    "plt.tight_layout()  # Adjusts the plot to ensure everything fits without overlapping\n",
    "plt.show()"
   ]
  },
  {
   "cell_type": "markdown",
   "metadata": {},
   "source": [
    "## 14) Read in the most recent data\n",
    "\n",
    "I copied and pasted the most recent data from [the original Bloomberg story](https://www.bloomberg.com/billionaires/) (it's in the page's source code), but it all was saved as JSON. Can you use pandas to read in `billionaires.json`?\n",
    "\n",
    "> **TIP:** If `pd.read_csv` reads a CSV and `pd.read_excel` reads an excel file... what reads in JSON?\n",
    ">\n",
    "> **TIP:** It's a lot less complicated than what we did in class."
   ]
  },
  {
   "cell_type": "code",
   "execution_count": 158,
   "metadata": {},
   "outputs": [
    {
     "data": {
      "text/html": "<div>\n<style scoped>\n    .dataframe tbody tr th:only-of-type {\n        vertical-align: middle;\n    }\n\n    .dataframe tbody tr th {\n        vertical-align: top;\n    }\n\n    .dataframe thead th {\n        text-align: right;\n    }\n</style>\n<table border=\"1\" class=\"dataframe\">\n  <thead>\n    <tr style=\"text-align: right;\">\n      <th></th>\n      <th>commonName</th>\n      <th>commonLastName</th>\n      <th>citizenship</th>\n      <th>slug</th>\n      <th>industry</th>\n      <th>personId</th>\n      <th>rank</th>\n      <th>worth</th>\n      <th>lastChange</th>\n      <th>lastPercentChange</th>\n      <th>ytdChange</th>\n      <th>ytdPercentChange</th>\n      <th>sector</th>\n      <th>fWorth</th>\n      <th>fLastChange</th>\n      <th>fYtdChange</th>\n      <th>fLastPercentChange</th>\n      <th>fYtdPercentChange</th>\n    </tr>\n  </thead>\n  <tbody>\n    <tr>\n      <th>0</th>\n      <td>Elon Musk</td>\n      <td>Musk</td>\n      <td>United States</td>\n      <td>elon-r-musk</td>\n      <td>Technology</td>\n      <td>1954518</td>\n      <td>1</td>\n      <td>221116780866</td>\n      <td>9795811154</td>\n      <td>4.64</td>\n      <td>84106712938</td>\n      <td>61.39</td>\n      <td>Technology</td>\n      <td>$221B</td>\n      <td>+$9.80B</td>\n      <td>+$84.1B</td>\n      <td>+4.6%</td>\n      <td>+61.4%</td>\n    </tr>\n    <tr>\n      <th>1</th>\n      <td>Bernard Arnault</td>\n      <td>Arnault</td>\n      <td>France</td>\n      <td>bernard-j-arnault</td>\n      <td>Consumer</td>\n      <td>1392853</td>\n      <td>2</td>\n      <td>170267873036</td>\n      <td>7356040557</td>\n      <td>4.52</td>\n      <td>8178459368</td>\n      <td>5.05</td>\n      <td>Consumer</td>\n      <td>$170B</td>\n      <td>+$7.36B</td>\n      <td>+$8.18B</td>\n      <td>+4.5%</td>\n      <td>+5.0%</td>\n    </tr>\n    <tr>\n      <th>2</th>\n      <td>Jeff Bezos</td>\n      <td>Bezos</td>\n      <td>United States</td>\n      <td>jeffrey-p-bezos</td>\n      <td>Technology</td>\n      <td>1642252</td>\n      <td>3</td>\n      <td>169556171871</td>\n      <td>3202661603</td>\n      <td>1.93</td>\n      <td>62599942079</td>\n      <td>58.53</td>\n      <td>Technology</td>\n      <td>$170B</td>\n      <td>+$3.20B</td>\n      <td>+$62.6B</td>\n      <td>+1.9%</td>\n      <td>+58.5%</td>\n    </tr>\n    <tr>\n      <th>3</th>\n      <td>Bill Gates</td>\n      <td>Gates</td>\n      <td>United States</td>\n      <td>william-h-gates</td>\n      <td>Technology</td>\n      <td>1390479</td>\n      <td>4</td>\n      <td>131137012631</td>\n      <td>1103482475</td>\n      <td>0.85</td>\n      <td>21900118029</td>\n      <td>20.05</td>\n      <td>Technology</td>\n      <td>$131B</td>\n      <td>+$1.10B</td>\n      <td>+$21.9B</td>\n      <td>+0.8%</td>\n      <td>+20.1%</td>\n    </tr>\n    <tr>\n      <th>4</th>\n      <td>Larry Ellison</td>\n      <td>Ellison</td>\n      <td>United States</td>\n      <td>lawrence-j-ellison</td>\n      <td>Technology</td>\n      <td>1491757</td>\n      <td>5</td>\n      <td>129608081535</td>\n      <td>2286642464</td>\n      <td>1.80</td>\n      <td>37780140594</td>\n      <td>41.14</td>\n      <td>Technology</td>\n      <td>$130B</td>\n      <td>+$2.29B</td>\n      <td>+$37.8B</td>\n      <td>+1.8%</td>\n      <td>+41.1%</td>\n    </tr>\n  </tbody>\n</table>\n</div>",
      "text/plain": "        commonName commonLastName    citizenship                slug  \\\n0        Elon Musk           Musk  United States         elon-r-musk   \n1  Bernard Arnault        Arnault         France   bernard-j-arnault   \n2       Jeff Bezos          Bezos  United States     jeffrey-p-bezos   \n3       Bill Gates          Gates  United States     william-h-gates   \n4    Larry Ellison        Ellison  United States  lawrence-j-ellison   \n\n     industry  personId  rank         worth  lastChange  lastPercentChange  \\\n0  Technology   1954518     1  221116780866  9795811154               4.64   \n1    Consumer   1392853     2  170267873036  7356040557               4.52   \n2  Technology   1642252     3  169556171871  3202661603               1.93   \n3  Technology   1390479     4  131137012631  1103482475               0.85   \n4  Technology   1491757     5  129608081535  2286642464               1.80   \n\n     ytdChange  ytdPercentChange      sector fWorth fLastChange fYtdChange  \\\n0  84106712938             61.39  Technology  $221B     +$9.80B    +$84.1B   \n1   8178459368              5.05    Consumer  $170B     +$7.36B    +$8.18B   \n2  62599942079             58.53  Technology  $170B     +$3.20B    +$62.6B   \n3  21900118029             20.05  Technology  $131B     +$1.10B    +$21.9B   \n4  37780140594             41.14  Technology  $130B     +$2.29B    +$37.8B   \n\n  fLastPercentChange fYtdPercentChange  \n0              +4.6%            +61.4%  \n1              +4.5%             +5.0%  \n2              +1.9%            +58.5%  \n3              +0.8%            +20.1%  \n4              +1.8%            +41.1%  "
     },
     "execution_count": 158,
     "metadata": {},
     "output_type": "execute_result"
    }
   ],
   "source": [
    "# read in the data\n",
    "json_url = '/Users/isabellerch/Downloads/06-homework 2/billionaires.json'\n",
    "\n",
    "# read in the data and create the dataframe called \"billionaires\"\n",
    "billionaires = pd.read_json(json_url)\n",
    "\n",
    "# show the dataframe\n",
    "billionaires.head()"
   ]
  },
  {
   "cell_type": "code",
   "execution_count": null,
   "metadata": {},
   "outputs": [],
   "source": []
  }
 ],
 "metadata": {
  "kernelspec": {
   "display_name": "Python 3.6.12 64-bit ('tensorflow_env': conda)",
   "name": "python3612jvsc74a57bd0c063cd1f2495c71c2503c4f05b710d8a5f17b17dfb680858d6ee303af1e4a868"
  },
  "language_info": {
   "codemirror_mode": {
    "name": "ipython",
    "version": 3
   },
   "file_extension": ".py",
   "mimetype": "text/x-python",
   "name": "python",
   "nbconvert_exporter": "python",
   "pygments_lexer": "ipython3",
   "version": "3.6.12"
  },
  "orig_nbformat": 3
 },
 "nbformat": 4,
 "nbformat_minor": 4
}